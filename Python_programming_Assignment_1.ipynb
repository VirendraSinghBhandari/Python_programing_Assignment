{
 "cells": [
  {
   "cell_type": "code",
   "execution_count": 1,
   "id": "e0e28769",
   "metadata": {},
   "outputs": [
    {
     "name": "stdout",
     "output_type": "stream",
     "text": [
      "Hello\n"
     ]
    }
   ],
   "source": [
    "#Q1 1.\tWrite a Python program to print \"Hello Python\"?\n",
    "\n",
    "print(\"Hello\")"
   ]
  },
  {
   "cell_type": "code",
   "execution_count": 8,
   "id": "13cb15da",
   "metadata": {},
   "outputs": [
    {
     "name": "stdout",
     "output_type": "stream",
     "text": [
      "15\n",
      "0.5\n"
     ]
    }
   ],
   "source": [
    "#Q2 2.\tWrite a Python program to do arithmetical operations addition and division.?\n",
    "a= 5\n",
    "b = 10\n",
    "\n",
    "c = a+b\n",
    "d = a/b\n",
    "print(c)\n",
    "print(d)"
   ]
  },
  {
   "cell_type": "code",
   "execution_count": 9,
   "id": "86ff109c",
   "metadata": {},
   "outputs": [
    {
     "name": "stdout",
     "output_type": "stream",
     "text": [
      "enter height15\n",
      "enter base20\n",
      "Area of triangle 150.0\n"
     ]
    }
   ],
   "source": [
    "#Q3.\tWrite a Python program to find the area of a triangle?\n",
    "\n",
    "a = int(input(\"enter height\"))\n",
    "b = int(input(\"enter base\"))\n",
    "\n",
    "area = (a*b)/2\n",
    "print(\"Area of triangle\", area)"
   ]
  },
  {
   "cell_type": "code",
   "execution_count": 11,
   "id": "556c33b8",
   "metadata": {},
   "outputs": [
    {
     "name": "stdout",
     "output_type": "stream",
     "text": [
      " Original value of a and b is  5 10\n",
      "swaped value of a and b is  10 5\n"
     ]
    }
   ],
   "source": [
    "#Q4: 4.\tWrite a Python program to swap two variables?\n",
    "\n",
    "a = 5\n",
    "b = 10\n",
    "print(\" Original value of a and b is \", a,b)\n",
    "\n",
    "c= a\n",
    "a = b\n",
    "b = c\n",
    "\n",
    "print(\"swaped value of a and b is \", a, b)"
   ]
  },
  {
   "cell_type": "code",
   "execution_count": 13,
   "id": "6573b841",
   "metadata": {},
   "outputs": [
    {
     "name": "stdout",
     "output_type": "stream",
     "text": [
      "38\n"
     ]
    }
   ],
   "source": [
    "#Q5 5.\tWrite a Python program to generate a random number?\n",
    "\n",
    "import random\n",
    "\n",
    "ramdon_number = random.randint(0,50)\n",
    "print(ramdon_number)"
   ]
  },
  {
   "cell_type": "code",
   "execution_count": null,
   "id": "8f0a1ec7",
   "metadata": {},
   "outputs": [],
   "source": []
  },
  {
   "cell_type": "code",
   "execution_count": null,
   "id": "6c927787",
   "metadata": {},
   "outputs": [],
   "source": []
  }
 ],
 "metadata": {
  "kernelspec": {
   "display_name": "Python 3 (ipykernel)",
   "language": "python",
   "name": "python3"
  },
  "language_info": {
   "codemirror_mode": {
    "name": "ipython",
    "version": 3
   },
   "file_extension": ".py",
   "mimetype": "text/x-python",
   "name": "python",
   "nbconvert_exporter": "python",
   "pygments_lexer": "ipython3",
   "version": "3.9.12"
  }
 },
 "nbformat": 4,
 "nbformat_minor": 5
}
